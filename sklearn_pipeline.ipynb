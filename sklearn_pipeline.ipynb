{
 "cells": [
  {
   "cell_type": "code",
   "execution_count": 4,
   "id": "c6758fe8-de4a-44db-8b72-b4de31775973",
   "metadata": {},
   "outputs": [],
   "source": [
    "from sklearn.datasets import load_iris\n",
    "from sklearn.model_selection import train_test_split\n",
    "from sklearn.preprocessing import StandardScaler\n",
    "from sklearn.linear_model import LogisticRegression\n",
    "from sklearn.pipeline import Pipeline\n",
    "from sklearn.metrics import accuracy_score\n",
    "from sklearn.preprocessing import StandardScaler, OneHotEncoder\n",
    "from sklearn.impute import SimpleImputer\n",
    "from sklearn.compose import ColumnTransformer\n",
    "import pandas as pd\n",
    "import numpy as np"
   ]
  },
  {
   "cell_type": "code",
   "execution_count": 2,
   "id": "ceaff4df-e2a1-4b5a-8423-fb8549d7c049",
   "metadata": {},
   "outputs": [
    {
     "name": "stdout",
     "output_type": "stream",
     "text": [
      "Pipeline Training Complete.\n",
      "Model Steps: [('scaler', StandardScaler()), ('model', LogisticRegression(max_iter=200, random_state=42))]\n",
      "Test Accuracy: 0.9111\n"
     ]
    }
   ],
   "source": [
    "iris = load_iris()\n",
    "X, y = iris.data, iris.target\n",
    "\n",
    "X_train, X_test, y_train, y_test = train_test_split(X, y,test_size=0.3,random_state=42,stratify=y) \n",
    "\n",
    "# --- 2. DEFINE PIPELINE STEPS ---\n",
    "# The Pipeline is a list of (name, estimator) tuples\n",
    "pipeline_steps = [('scaler', StandardScaler()),('model', LogisticRegression(random_state=42, max_iter=200))]\n",
    "\n",
    "model_pipeline = Pipeline(pipeline_steps)\n",
    "model_pipeline.fit(X_train, y_train)\n",
    "\n",
    "y_pred = model_pipeline.predict(X_test)\n",
    "\n",
    "# Calculate and print accuracy\n",
    "accuracy = accuracy_score(y_test, y_pred)\n",
    "print(f\"Pipeline Training Complete.\")\n",
    "print(f\"Model Steps: {model_pipeline.steps}\")\n",
    "print(f\"Test Accuracy: {accuracy:.4f}\")"
   ]
  },
  {
   "cell_type": "code",
   "execution_count": 3,
   "id": "e709bbb9-3120-4331-85b4-4fe18fa466e4",
   "metadata": {},
   "outputs": [],
   "source": [
    "#for a nested pipeline (meaning another pipeline is present in another making it called as sub-pipeline)"
   ]
  },
  {
   "cell_type": "code",
   "execution_count": 5,
   "id": "5f651edd-5e1a-4fc0-a723-a2dae0660fa7",
   "metadata": {},
   "outputs": [
    {
     "name": "stdout",
     "output_type": "stream",
     "text": [
      "Nested Pipeline Training and Execution Complete.\n",
      "Original Data Shape: (3, 4)\n",
      "Transformed Data Output (Features Scaled & Encoded): (3, 8)\n"
     ]
    }
   ],
   "source": [
    "\n",
    "# --- 1. CREATE MOCK DATA & SPLIT ---\n",
    "data = {\n",
    "    'Age': [25, 45, np.nan, 30, 50, 22],\n",
    "    'Salary': [50000, 75000, 60000, np.nan, 90000, 45000],\n",
    "    'City': ['NYC', 'London', 'Paris', 'NYC', 'London', 'Paris'],\n",
    "    'Education': ['High', 'College', 'College', 'High', 'Grad', 'High'],\n",
    "    'Target': [0, 1, 0, 1, 0, 1]\n",
    "}\n",
    "df = pd.DataFrame(data)\n",
    "X = df.drop('Target', axis=1)\n",
    "y = df['Target']\n",
    "\n",
    "# Split data (necessary for proper fit/transform logic)\n",
    "X_train, X_test, y_train, y_test = train_test_split(X, y, test_size=0.4, random_state=42)\n",
    "\n",
    "# --- 2. DEFINE SUB-PIPELINES (Nested Pipelines) ---\n",
    "\n",
    "# A. Numeric Sub-Pipeline: Impute (mean) -> Scale\n",
    "numeric_features = ['Age', 'Salary']\n",
    "numeric_transformer = Pipeline(steps=[('imputer', SimpleImputer(strategy='mean')),('scaler', StandardScaler())])\n",
    "\n",
    "# B. Categorical Sub-Pipeline: Impute (most frequent) -> One-Hot Encode\n",
    "categorical_features = ['City', 'Education']\n",
    "categorical_transformer = Pipeline(steps=[('imputer', SimpleImputer(strategy='most_frequent')),('onehot', OneHotEncoder(handle_unknown='ignore'))])\n",
    "\n",
    "# --- 3. CREATE COLUMN TRANSFORMER (Feature Unification) ---\n",
    "\n",
    "# Directs data flow: applies the correct sub-pipeline to the correct columns\n",
    "preprocessor = ColumnTransformer(transformers=[('num', numeric_transformer, numeric_features),('cat', categorical_transformer, categorical_features)],remainder='passthrough')\n",
    "\n",
    "# --- 4. CREATE MAIN PIPELINE ---\n",
    "main_pipeline = Pipeline(steps=[('preprocessor', preprocessor), ('classifier', LogisticRegression(random_state=42))])\n",
    "\n",
    "# --- 5. EXECUTE ---\n",
    "# Trains the entire nested workflow in one call\n",
    "main_pipeline.fit(X_train, y_train)\n",
    "\n",
    "# Demonstrate prediction/evaluation (predict the test data)\n",
    "y_pred = main_pipeline.predict(X_test)\n",
    "\n",
    "print(\"Nested Pipeline Training and Execution Complete.\")\n",
    "print(f\"Original Data Shape: {X_test.shape}\")\n",
    "print(f\"Transformed Data Output (Features Scaled & Encoded): {main_pipeline['preprocessor'].transform(X_test).shape}\")"
   ]
  },
  {
   "cell_type": "code",
   "execution_count": null,
   "id": "9c65fbbb-ddbc-406f-a4b9-9fb8b40878d7",
   "metadata": {},
   "outputs": [],
   "source": []
  }
 ],
 "metadata": {
  "kernelspec": {
   "display_name": "Python 3 (ipykernel)",
   "language": "python",
   "name": "python3"
  },
  "language_info": {
   "codemirror_mode": {
    "name": "ipython",
    "version": 3
   },
   "file_extension": ".py",
   "mimetype": "text/x-python",
   "name": "python",
   "nbconvert_exporter": "python",
   "pygments_lexer": "ipython3",
   "version": "3.13.5"
  }
 },
 "nbformat": 4,
 "nbformat_minor": 5
}
